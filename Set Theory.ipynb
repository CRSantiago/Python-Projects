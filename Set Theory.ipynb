{
 "cells": [
  {
   "cell_type": "code",
   "execution_count": 1,
   "metadata": {},
   "outputs": [],
   "source": [
    "male_names = { 'John', 'Bailey', 'Charlie', 'Chuck', 'Michael', 'Samuel', 'Jayden', 'Aiden', 'Henry', 'Lucas' }\n",
    "female_names = { 'Elizabeth', 'Meghan', 'Kim', 'Khloe', 'Bailey', 'Jayden', 'Aiden', 'Britney', 'Veronica', 'Maria' }\n",
    "\n",
    "# Use set methods to create sets all_names, neutral_names, and specific_names.\n",
    "\n",
    "''' Your solution goes here '''\n",
    "all_names = set()\n",
    "neutral_names = set()\n",
    "specific_names = set()\n",
    "all_names.update(male_names, female_names)\n",
    "neutral_names = all_names.intersection(male_names, female_names)\n",
    "specific_names = male_names.symmetric_difference(female_names)\n"
   ]
  },
  {
   "cell_type": "code",
   "execution_count": 2,
   "metadata": {},
   "outputs": [
    {
     "name": "stdout",
     "output_type": "stream",
     "text": [
      "{'Charlie', 'Meghan', 'Bailey', 'Michael', 'Elizabeth', 'Aiden', 'Khloe', 'Kim', 'Samuel', 'John', 'Britney', 'Veronica', 'Maria', 'Jayden', 'Lucas', 'Chuck', 'Henry'}\n"
     ]
    }
   ],
   "source": [
    "print(all_names)"
   ]
  },
  {
   "cell_type": "code",
   "execution_count": 3,
   "metadata": {},
   "outputs": [
    {
     "name": "stdout",
     "output_type": "stream",
     "text": [
      "{'Jayden', 'Aiden', 'Bailey'}\n"
     ]
    }
   ],
   "source": [
    "print(neutral_names)"
   ]
  },
  {
   "cell_type": "code",
   "execution_count": 4,
   "metadata": {},
   "outputs": [
    {
     "name": "stdout",
     "output_type": "stream",
     "text": [
      "{'Charlie', 'Meghan', 'Michael', 'Khloe', 'Kim', 'Britney', 'Veronica', 'Samuel', 'John', 'Henry', 'Maria', 'Lucas', 'Chuck', 'Elizabeth'}\n"
     ]
    }
   ],
   "source": [
    "print(specific_names)"
   ]
  },
  {
   "cell_type": "code",
   "execution_count": null,
   "metadata": {},
   "outputs": [],
   "source": []
  }
 ],
 "metadata": {
  "kernelspec": {
   "display_name": "Python 3",
   "language": "python",
   "name": "python3"
  },
  "language_info": {
   "codemirror_mode": {
    "name": "ipython",
    "version": 3
   },
   "file_extension": ".py",
   "mimetype": "text/x-python",
   "name": "python",
   "nbconvert_exporter": "python",
   "pygments_lexer": "ipython3",
   "version": "3.6.5"
  }
 },
 "nbformat": 4,
 "nbformat_minor": 2
}
